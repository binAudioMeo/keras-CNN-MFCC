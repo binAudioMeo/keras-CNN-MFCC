{
 "cells": [
  {
   "cell_type": "code",
   "execution_count": 1,
   "id": "651bdc13",
   "metadata": {},
   "outputs": [],
   "source": [
    "import pandas as pd\n",
    "import numpy as np\n",
    "import matplotlib.pyplot as plt\n",
    "\n",
    "import librosa\n",
    "from IPython.display import Audio \n",
    "from IPython.core.display import display\n",
    "\n",
    "from sklearn.preprocessing import LabelEncoder\n",
    "from sklearn.model_selection import train_test_split \n",
    "from sklearn.metrics import classification_report, confusion_matrix\n",
    "from keras.utils.np_utils import to_categorical\n",
    "\n",
    "from keras import Input\n",
    "from keras.models import Sequential, load_model\n",
    "from keras.layers import Dense, Dropout, Activation, Conv2D, MaxPooling2D, Flatten, GlobalAveragePooling2D\n",
    "from keras.callbacks import ModelCheckpoint, EarlyStopping\n",
    "\n",
    "import os\n",
    "from collections import Counter\n",
    "from datetime import datetime"
   ]
  },
  {
   "cell_type": "code",
   "execution_count": 2,
   "id": "a26a98b6",
   "metadata": {},
   "outputs": [],
   "source": [
    "num_rows = n_mfcc = 40\n",
    "num_columns = max_pad_len = 431\n",
    "num_channels = 1"
   ]
  },
  {
   "cell_type": "code",
   "execution_count": 20,
   "id": "5adf13cd",
   "metadata": {},
   "outputs": [],
   "source": [
    "def extract_features(file_name):\n",
    "    try:\n",
    "        y, sr = librosa.load(file_name, res_type='kaiser_fast') \n",
    "        mfcc = librosa.feature.mfcc(y=y, sr=sr, n_mfcc=n_mfcc)\n",
    "        pad_width = max_pad_len - mfcc.shape[1]\n",
    "        if pad_width > 0:\n",
    "            mfcc = np.pad(mfcc, pad_width=((0, 0), (0, pad_width)), mode='constant')\n",
    "        elif pad_width < 0:\n",
    "            mfcc = np.delete(mfcc, -pad_width, axis=1)\n",
    "        \n",
    "    except Exception as e:\n",
    "        print(\"Error encountered while parsing file: \", file_name)\n",
    "        print(e)\n",
    "        return None \n",
    "     \n",
    "    return mfcc"
   ]
  },
  {
   "cell_type": "code",
   "execution_count": 21,
   "id": "35cbf266",
   "metadata": {
    "scrolled": true
   },
   "outputs": [],
   "source": [
    "def fetchDataset(path, class_label):\n",
    "    features = []\n",
    "    filename_list = []\n",
    "    for dirpath, dirnames, filenames in os.walk(path):\n",
    "        print(dirpath)\n",
    "        filename_list = filename_list + filenames\n",
    "        for filename in filenames:\n",
    "            file_name = os.path.join(dirpath, filename)\n",
    "            data = extract_features(file_name)\n",
    "            features.append([data, class_label])\n",
    "    return features, filename_list"
   ]
  },
  {
   "cell_type": "markdown",
   "id": "da4193ae",
   "metadata": {},
   "source": [
    "# 특징 직접 추출"
   ]
  },
  {
   "cell_type": "code",
   "execution_count": null,
   "id": "79739383",
   "metadata": {},
   "outputs": [],
   "source": [
    "# 여기는 각자 경로에 맞게\n",
    "generalSoundPath = 'E:/Audio-TrainDataset/General-Sounds/'\n",
    "legalVoicePath = 'E:/Audio-TrainDataset/Legal-Voices/'\n",
    "illegalVoicePath = 'E:/Audio-TrainDataset/Illegal-Voices/'\n",
    "noSoundPath = 'E:/Audio-TrainDataset/No-Sounds/'\n",
    "\n",
    "start = datetime.now()\n",
    "\n",
    "gs, gs_name = fetchDataset(generalSoundPath, 'General Sound')\n",
    "lv, lv_name = fetchDataset(legalVoicePath, 'Legal Voice')\n",
    "iv, iv_name = fetchDataset(illegalVoicePath, 'Illegal Voice')\n",
    "# ns, ns_name = fetchDataset(noSoundPath, 'No Sound')\n",
    "\n",
    "duration = datetime.now() - start\n",
    "print(duration)"
   ]
  },
  {
   "cell_type": "code",
   "execution_count": null,
   "id": "5eaae0d4",
   "metadata": {
    "scrolled": true
   },
   "outputs": [],
   "source": [
    "# 문제아 테스트\n",
    "# extract_features('E:/Audio-TrainDataset/No-Sounds/NS-0-000000.wav')"
   ]
  },
  {
   "cell_type": "markdown",
   "id": "41dfd94e",
   "metadata": {},
   "source": [
    "# 추출한 특징 파일로 저장"
   ]
  },
  {
   "cell_type": "code",
   "execution_count": null,
   "id": "e48db144",
   "metadata": {},
   "outputs": [],
   "source": [
    "def write_features(file_name, dataset):\n",
    "    with open(file_name, 'w') as f:\n",
    "        for item1 in dataset:\n",
    "            for item2 in item1[0]:\n",
    "                for item3 in item2:\n",
    "                    f.write(\"%s \" % item3)\n",
    "                f.write('\\n')\n",
    "\n",
    "def write_filenames(file_name, name_list):\n",
    "    with open(file_name, 'w') as f:\n",
    "        for item1 in name_list:\n",
    "            f.write(\"%s\\n\" % item1)"
   ]
  },
  {
   "cell_type": "code",
   "execution_count": null,
   "id": "807f1c7f",
   "metadata": {},
   "outputs": [],
   "source": [
    "write_features('E:/특징 추출/mfcc (40, 431)/General-Sounds.txt', gs)\n",
    "write_features('E:/특징 추출/mfcc (40, 431)/Legal-Voices.txt', lv)\n",
    "write_features('E:/특징 추출/mfcc (40, 431)/Illegal-Voices.txt', iv)\n",
    "# write_features('E:/특징 추출/mfcc (40, 431)/No-Sounds.txt', ns)\n",
    "\n",
    "# write_filenames('E:/파일명/General-Sounds.txt', gs_name)\n",
    "# write_filenames('E:/파일명/Legal-Voices.txt', lv_name)\n",
    "# write_filenames('E:/파일명/Illegal-Voices.txt', iv_name)\n",
    "# write_filenames('E:/파일명/No-Sounds.txt', ns_name)"
   ]
  },
  {
   "cell_type": "markdown",
   "id": "73c2430f",
   "metadata": {},
   "source": [
    "# 저장한 특징 불러오기"
   ]
  },
  {
   "cell_type": "code",
   "execution_count": 3,
   "id": "04817bf6",
   "metadata": {},
   "outputs": [],
   "source": [
    "def read_features(file_name, feature_label):\n",
    "    dataset = []\n",
    "    with open(file_name, 'r') as f:\n",
    "        line = ''\n",
    "        while True:\n",
    "            temp = np.array([])\n",
    "            for i in range(n_mfcc):\n",
    "                line = f.readline()\n",
    "                if not line:\n",
    "                    break\n",
    "                temp = np.append(temp, np.fromiter(line.split(), dtype=np.float32))\n",
    "            if not line:\n",
    "                break\n",
    "            temp = np.reshape(temp, (n_mfcc, max_pad_len))\n",
    "            dataset.append([temp, feature_label])\n",
    "    return dataset\n",
    "\n",
    "def read_filenames(file_name):\n",
    "    name_list = []\n",
    "    with open(file_name, 'r') as f:\n",
    "        while True:\n",
    "            line = f.readline()\n",
    "            if not line:\n",
    "                break\n",
    "            name_list.append(line[:-1])\n",
    "    return name_list"
   ]
  },
  {
   "cell_type": "code",
   "execution_count": 4,
   "id": "40a38b89",
   "metadata": {},
   "outputs": [],
   "source": [
    "gs = read_features('E:/특징 추출/mfcc (40, 431)/General-Sounds.txt', 'General Sound')\n",
    "lv = read_features('E:/특징 추출/mfcc (40, 431)/Legal-Voices.txt', 'Legal Voice')\n",
    "iv = read_features('E:/특징 추출/mfcc (40, 431)/Illegal-Voices.txt', 'Illegal Voice')\n",
    "# ns = read_features('E:/특징 추출/mfcc (40, 431)/No-Sounds.txt', 'No Sound')\n",
    "\n",
    "# gs_name = read_filenames('E:/파일명/General-Sounds.txt')\n",
    "# lv_name = read_filenames('E:/파일명/Legal-Voices.txt')\n",
    "# iv_name = read_filenames('E:/파일명/Illegal-Voices.txt')\n",
    "# ns_name = read_filenames('E:/파일명/No-Sounds.txt')"
   ]
  },
  {
   "cell_type": "markdown",
   "id": "c6de3ab7",
   "metadata": {},
   "source": [
    "# 데이터셋 학습에 쓸 수 있게 나누고 형태 맞추는 부분"
   ]
  },
  {
   "cell_type": "code",
   "execution_count": 5,
   "id": "612d408d",
   "metadata": {
    "scrolled": false
   },
   "outputs": [
    {
     "name": "stdout",
     "output_type": "stream",
     "text": [
      "Finished feature extraction from 91066 files\n"
     ]
    }
   ],
   "source": [
    "features = gs + lv + iv\n",
    "# features = gs + lv + iv + ns\n",
    "featuresdf = pd.DataFrame(features, columns=['feature','class_label'])\n",
    "print('Finished feature extraction from', len(featuresdf), 'files')"
   ]
  },
  {
   "cell_type": "code",
   "execution_count": 6,
   "id": "30e672e3",
   "metadata": {},
   "outputs": [],
   "source": [
    "# Convert features and corresponding classification labels into numpy arrays\n",
    "X = np.array(featuresdf.feature.tolist())\n",
    "y = np.array(featuresdf.class_label.tolist())\n",
    "\n",
    "# Encode the classification labels\n",
    "le = LabelEncoder()\n",
    "yy = to_categorical(le.fit_transform(y))\n",
    "\n",
    "X = X.reshape(X.shape[0], num_rows, num_columns, num_channels)"
   ]
  },
  {
   "cell_type": "code",
   "execution_count": 8,
   "id": "6ba88207",
   "metadata": {},
   "outputs": [],
   "source": [
    "# gs = lv = iv = features = featuresdf = y = None"
   ]
  },
  {
   "cell_type": "code",
   "execution_count": 9,
   "id": "3d5225b6",
   "metadata": {
    "scrolled": true
   },
   "outputs": [
    {
     "name": "stdout",
     "output_type": "stream",
     "text": [
      "Counter({0: 26471, 2: 24146, 1: 4022})\n",
      "Counter({0: 8906, 2: 7949, 1: 1358})\n",
      "Counter({0: 8801, 2: 8134, 1: 1279})\n"
     ]
    }
   ],
   "source": [
    "x_train, x_test, y_train, y_test = train_test_split(X, yy, test_size=0.2, random_state = 42)\n",
    "# X = yy = None\n",
    "x_train, x_val, y_train, y_val = train_test_split(x_train, y_train, test_size=0.25, random_state = 42)\n",
    "\n",
    "print(Counter(np.argmax(y_train, axis=1)))\n",
    "print(Counter(np.argmax(y_val, axis=1)))\n",
    "print(Counter(np.argmax(y_test, axis=1)))"
   ]
  },
  {
   "cell_type": "markdown",
   "id": "5005a210",
   "metadata": {},
   "source": [
    "# 모델 학습 부분"
   ]
  },
  {
   "cell_type": "code",
   "execution_count": 12,
   "id": "93028c52",
   "metadata": {},
   "outputs": [],
   "source": [
    "# Construct model \n",
    "model = Sequential()\n",
    "model.add(Conv2D(filters=16, kernel_size=2, input_shape=(num_rows, num_columns, num_channels), activation='relu'))\n",
    "model.add(MaxPooling2D(pool_size=2))\n",
    "model.add(Dropout(0.2))\n",
    "\n",
    "model.add(Conv2D(filters=32, kernel_size=2, activation='relu'))\n",
    "model.add(MaxPooling2D(pool_size=2))\n",
    "model.add(Dropout(0.2))\n",
    "\n",
    "model.add(Conv2D(filters=64, kernel_size=2, activation='relu'))\n",
    "model.add(MaxPooling2D(pool_size=2))\n",
    "model.add(Dropout(0.2))\n",
    "\n",
    "model.add(Conv2D(filters=128, kernel_size=2, activation='relu'))\n",
    "model.add(MaxPooling2D(pool_size=2))\n",
    "model.add(Dropout(0.2))\n",
    "model.add(GlobalAveragePooling2D())\n",
    "\n",
    "model.add(Dense(y_train.shape[1], activation='softmax'))"
   ]
  },
  {
   "cell_type": "code",
   "execution_count": 13,
   "id": "74eafc57",
   "metadata": {},
   "outputs": [],
   "source": [
    "# Compile the model\n",
    "model.compile(loss='categorical_crossentropy', metrics=['accuracy'], optimizer='adam')"
   ]
  },
  {
   "cell_type": "code",
   "execution_count": 14,
   "id": "40b7c56f",
   "metadata": {},
   "outputs": [
    {
     "name": "stdout",
     "output_type": "stream",
     "text": [
      "Model: \"sequential_1\"\n",
      "_________________________________________________________________\n",
      "Layer (type)                 Output Shape              Param #   \n",
      "=================================================================\n",
      "conv2d_4 (Conv2D)            (None, 39, 430, 16)       80        \n",
      "_________________________________________________________________\n",
      "max_pooling2d_4 (MaxPooling2 (None, 19, 215, 16)       0         \n",
      "_________________________________________________________________\n",
      "dropout_4 (Dropout)          (None, 19, 215, 16)       0         \n",
      "_________________________________________________________________\n",
      "conv2d_5 (Conv2D)            (None, 18, 214, 32)       2080      \n",
      "_________________________________________________________________\n",
      "max_pooling2d_5 (MaxPooling2 (None, 9, 107, 32)        0         \n",
      "_________________________________________________________________\n",
      "dropout_5 (Dropout)          (None, 9, 107, 32)        0         \n",
      "_________________________________________________________________\n",
      "conv2d_6 (Conv2D)            (None, 8, 106, 64)        8256      \n",
      "_________________________________________________________________\n",
      "max_pooling2d_6 (MaxPooling2 (None, 4, 53, 64)         0         \n",
      "_________________________________________________________________\n",
      "dropout_6 (Dropout)          (None, 4, 53, 64)         0         \n",
      "_________________________________________________________________\n",
      "conv2d_7 (Conv2D)            (None, 3, 52, 128)        32896     \n",
      "_________________________________________________________________\n",
      "max_pooling2d_7 (MaxPooling2 (None, 1, 26, 128)        0         \n",
      "_________________________________________________________________\n",
      "dropout_7 (Dropout)          (None, 1, 26, 128)        0         \n",
      "_________________________________________________________________\n",
      "global_average_pooling2d_1 ( (None, 128)               0         \n",
      "_________________________________________________________________\n",
      "dense (Dense)                (None, 3)                 387       \n",
      "=================================================================\n",
      "Total params: 43,699\n",
      "Trainable params: 43,699\n",
      "Non-trainable params: 0\n",
      "_________________________________________________________________\n",
      "570/570 [==============================] - 36s 39ms/step - loss: 1.8111 - accuracy: 0.5394\n",
      "Pre-training accuracy: 53.7169%\n"
     ]
    }
   ],
   "source": [
    "# Display model architecture summary \n",
    "model.summary()\n",
    "\n",
    "# Calculate pre-training accuracy \n",
    "score = model.evaluate(x_test, y_test, verbose=1)\n",
    "accuracy = 100 * score[1]\n",
    "\n",
    "print(\"Pre-training accuracy: %.4f%%\" % accuracy)"
   ]
  },
  {
   "cell_type": "code",
   "execution_count": 15,
   "id": "c0a755b6",
   "metadata": {
    "scrolled": true
   },
   "outputs": [
    {
     "name": "stdout",
     "output_type": "stream",
     "text": [
      "Epoch 1/1000\n",
      "214/214 [==============================] - 313s 1s/step - loss: 0.8518 - accuracy: 0.7192 - val_loss: 0.4300 - val_accuracy: 0.8263\n",
      "\n",
      "Epoch 00001: val_loss improved from inf to 0.42996, saving model to saved_models\\least_val_loss_cnn_model.h5\n",
      "Epoch 2/1000\n",
      "214/214 [==============================] - 315s 1s/step - loss: 0.3649 - accuracy: 0.8514 - val_loss: 0.3762 - val_accuracy: 0.8602\n",
      "\n",
      "Epoch 00002: val_loss improved from 0.42996 to 0.37619, saving model to saved_models\\least_val_loss_cnn_model.h5\n",
      "Epoch 3/1000\n",
      "214/214 [==============================] - 336s 2s/step - loss: 0.3047 - accuracy: 0.8781 - val_loss: 0.3559 - val_accuracy: 0.8716\n",
      "\n",
      "Epoch 00003: val_loss improved from 0.37619 to 0.35594, saving model to saved_models\\least_val_loss_cnn_model.h5\n",
      "Epoch 4/1000\n",
      "214/214 [==============================] - 352s 2s/step - loss: 0.2758 - accuracy: 0.8911 - val_loss: 0.3319 - val_accuracy: 0.8811\n",
      "\n",
      "Epoch 00004: val_loss improved from 0.35594 to 0.33190, saving model to saved_models\\least_val_loss_cnn_model.h5\n",
      "Epoch 5/1000\n",
      "214/214 [==============================] - 337s 2s/step - loss: 0.2492 - accuracy: 0.9048 - val_loss: 0.3064 - val_accuracy: 0.8873\n",
      "\n",
      "Epoch 00005: val_loss improved from 0.33190 to 0.30642, saving model to saved_models\\least_val_loss_cnn_model.h5\n",
      "Epoch 6/1000\n",
      "214/214 [==============================] - 352s 2s/step - loss: 0.2292 - accuracy: 0.9134 - val_loss: 0.2961 - val_accuracy: 0.8977\n",
      "\n",
      "Epoch 00006: val_loss improved from 0.30642 to 0.29607, saving model to saved_models\\least_val_loss_cnn_model.h5\n",
      "Epoch 7/1000\n",
      "214/214 [==============================] - 343s 2s/step - loss: 0.2204 - accuracy: 0.9152 - val_loss: 0.3011 - val_accuracy: 0.8901\n",
      "\n",
      "Epoch 00007: val_loss did not improve from 0.29607\n",
      "Epoch 8/1000\n",
      "214/214 [==============================] - 309s 1s/step - loss: 0.2087 - accuracy: 0.9221 - val_loss: 0.2714 - val_accuracy: 0.9035\n",
      "\n",
      "Epoch 00008: val_loss improved from 0.29607 to 0.27140, saving model to saved_models\\least_val_loss_cnn_model.h5\n",
      "Epoch 9/1000\n",
      "214/214 [==============================] - 311s 1s/step - loss: 0.1974 - accuracy: 0.9274 - val_loss: 0.2597 - val_accuracy: 0.9090\n",
      "\n",
      "Epoch 00009: val_loss improved from 0.27140 to 0.25974, saving model to saved_models\\least_val_loss_cnn_model.h5\n",
      "Epoch 10/1000\n",
      "214/214 [==============================] - 310s 1s/step - loss: 0.1870 - accuracy: 0.9305 - val_loss: 0.2871 - val_accuracy: 0.8940\n",
      "\n",
      "Epoch 00010: val_loss did not improve from 0.25974\n",
      "Epoch 11/1000\n",
      "214/214 [==============================] - 313s 1s/step - loss: 0.1857 - accuracy: 0.9316 - val_loss: 0.2694 - val_accuracy: 0.8938\n",
      "\n",
      "Epoch 00011: val_loss did not improve from 0.25974\n",
      "Epoch 12/1000\n",
      "214/214 [==============================] - 310s 1s/step - loss: 0.1786 - accuracy: 0.9342 - val_loss: 0.2179 - val_accuracy: 0.9229\n",
      "\n",
      "Epoch 00012: val_loss improved from 0.25974 to 0.21787, saving model to saved_models\\least_val_loss_cnn_model.h5\n",
      "Epoch 13/1000\n",
      "214/214 [==============================] - 309s 1s/step - loss: 0.1715 - accuracy: 0.9369 - val_loss: 0.2228 - val_accuracy: 0.9215\n",
      "\n",
      "Epoch 00013: val_loss did not improve from 0.21787\n",
      "Epoch 14/1000\n",
      "214/214 [==============================] - 334s 2s/step - loss: 0.1656 - accuracy: 0.9394 - val_loss: 0.2114 - val_accuracy: 0.9261\n",
      "\n",
      "Epoch 00014: val_loss improved from 0.21787 to 0.21143, saving model to saved_models\\least_val_loss_cnn_model.h5\n",
      "Epoch 15/1000\n",
      "214/214 [==============================] - 312s 1s/step - loss: 0.1630 - accuracy: 0.9387 - val_loss: 0.2107 - val_accuracy: 0.9310\n",
      "\n",
      "Epoch 00015: val_loss improved from 0.21143 to 0.21070, saving model to saved_models\\least_val_loss_cnn_model.h5\n",
      "Epoch 16/1000\n",
      "214/214 [==============================] - 308s 1s/step - loss: 0.1598 - accuracy: 0.9402 - val_loss: 0.1991 - val_accuracy: 0.9328\n",
      "\n",
      "Epoch 00016: val_loss improved from 0.21070 to 0.19912, saving model to saved_models\\least_val_loss_cnn_model.h5\n",
      "Epoch 17/1000\n",
      "214/214 [==============================] - 310s 1s/step - loss: 0.1526 - accuracy: 0.9444 - val_loss: 0.2107 - val_accuracy: 0.9303\n",
      "\n",
      "Epoch 00017: val_loss did not improve from 0.19912\n",
      "Epoch 18/1000\n",
      "214/214 [==============================] - 317s 1s/step - loss: 0.1522 - accuracy: 0.9441 - val_loss: 0.2019 - val_accuracy: 0.9302\n",
      "\n",
      "Epoch 00018: val_loss did not improve from 0.19912\n",
      "Epoch 19/1000\n",
      "214/214 [==============================] - 313s 1s/step - loss: 0.1488 - accuracy: 0.9452 - val_loss: 0.1854 - val_accuracy: 0.9357\n",
      "\n",
      "Epoch 00019: val_loss improved from 0.19912 to 0.18542, saving model to saved_models\\least_val_loss_cnn_model.h5\n",
      "Epoch 20/1000\n",
      "214/214 [==============================] - 309s 1s/step - loss: 0.1422 - accuracy: 0.9482 - val_loss: 0.1772 - val_accuracy: 0.9430\n",
      "\n",
      "Epoch 00020: val_loss improved from 0.18542 to 0.17722, saving model to saved_models\\least_val_loss_cnn_model.h5\n",
      "Epoch 21/1000\n",
      "214/214 [==============================] - 307s 1s/step - loss: 0.1386 - accuracy: 0.9487 - val_loss: 0.1909 - val_accuracy: 0.9333\n",
      "\n",
      "Epoch 00021: val_loss did not improve from 0.17722\n",
      "Epoch 22/1000\n",
      "214/214 [==============================] - 305s 1s/step - loss: 0.1401 - accuracy: 0.9486 - val_loss: 0.1688 - val_accuracy: 0.9431\n",
      "\n",
      "Epoch 00022: val_loss improved from 0.17722 to 0.16878, saving model to saved_models\\least_val_loss_cnn_model.h5\n",
      "Epoch 23/1000\n",
      "214/214 [==============================] - 305s 1s/step - loss: 0.1328 - accuracy: 0.9514 - val_loss: 0.1721 - val_accuracy: 0.9340\n",
      "\n",
      "Epoch 00023: val_loss did not improve from 0.16878\n",
      "Epoch 24/1000\n",
      "214/214 [==============================] - 304s 1s/step - loss: 0.1273 - accuracy: 0.9537 - val_loss: 0.1823 - val_accuracy: 0.9343\n",
      "\n",
      "Epoch 00024: val_loss did not improve from 0.16878\n",
      "Epoch 25/1000\n",
      "214/214 [==============================] - 304s 1s/step - loss: 0.1292 - accuracy: 0.9525 - val_loss: 0.1686 - val_accuracy: 0.9383\n",
      "\n",
      "Epoch 00025: val_loss improved from 0.16878 to 0.16863, saving model to saved_models\\least_val_loss_cnn_model.h5\n",
      "Epoch 26/1000\n",
      "214/214 [==============================] - 304s 1s/step - loss: 0.1267 - accuracy: 0.9540 - val_loss: 0.1497 - val_accuracy: 0.9440\n",
      "\n",
      "Epoch 00026: val_loss improved from 0.16863 to 0.14969, saving model to saved_models\\least_val_loss_cnn_model.h5\n",
      "Epoch 27/1000\n",
      "214/214 [==============================] - 308s 1s/step - loss: 0.1242 - accuracy: 0.9544 - val_loss: 0.1488 - val_accuracy: 0.9451\n",
      "\n",
      "Epoch 00027: val_loss improved from 0.14969 to 0.14879, saving model to saved_models\\least_val_loss_cnn_model.h5\n",
      "Epoch 28/1000\n",
      "214/214 [==============================] - 309s 1s/step - loss: 0.1209 - accuracy: 0.9562 - val_loss: 0.1554 - val_accuracy: 0.9438\n",
      "\n",
      "Epoch 00028: val_loss did not improve from 0.14879\n",
      "Epoch 29/1000\n",
      "214/214 [==============================] - 307s 1s/step - loss: 0.1224 - accuracy: 0.9546 - val_loss: 0.1523 - val_accuracy: 0.9443\n",
      "\n",
      "Epoch 00029: val_loss did not improve from 0.14879\n",
      "Epoch 30/1000\n",
      "214/214 [==============================] - 309s 1s/step - loss: 0.1178 - accuracy: 0.9570 - val_loss: 0.1646 - val_accuracy: 0.9432\n",
      "\n",
      "Epoch 00030: val_loss did not improve from 0.14879\n",
      "Epoch 31/1000\n",
      "214/214 [==============================] - 307s 1s/step - loss: 0.1154 - accuracy: 0.9576 - val_loss: 0.1320 - val_accuracy: 0.9534\n",
      "\n",
      "Epoch 00031: val_loss improved from 0.14879 to 0.13198, saving model to saved_models\\least_val_loss_cnn_model.h5\n",
      "Epoch 32/1000\n",
      "214/214 [==============================] - 306s 1s/step - loss: 0.1132 - accuracy: 0.9588 - val_loss: 0.1339 - val_accuracy: 0.9503\n",
      "\n",
      "Epoch 00032: val_loss did not improve from 0.13198\n",
      "Epoch 33/1000\n",
      "214/214 [==============================] - 304s 1s/step - loss: 0.1111 - accuracy: 0.9597 - val_loss: 0.1449 - val_accuracy: 0.9494\n",
      "\n",
      "Epoch 00033: val_loss did not improve from 0.13198\n",
      "Epoch 34/1000\n",
      "214/214 [==============================] - 304s 1s/step - loss: 0.1113 - accuracy: 0.9590 - val_loss: 0.1556 - val_accuracy: 0.9415\n",
      "\n",
      "Epoch 00034: val_loss did not improve from 0.13198\n",
      "Epoch 35/1000\n",
      "214/214 [==============================] - 307s 1s/step - loss: 0.1085 - accuracy: 0.9610 - val_loss: 0.1741 - val_accuracy: 0.9380\n",
      "\n",
      "Epoch 00035: val_loss did not improve from 0.13198\n",
      "Epoch 36/1000\n"
     ]
    },
    {
     "name": "stdout",
     "output_type": "stream",
     "text": [
      "214/214 [==============================] - 310s 1s/step - loss: 0.1071 - accuracy: 0.9617 - val_loss: 0.1485 - val_accuracy: 0.9439\n",
      "\n",
      "Epoch 00036: val_loss did not improve from 0.13198\n",
      "Epoch 37/1000\n",
      "214/214 [==============================] - 309s 1s/step - loss: 0.1054 - accuracy: 0.9620 - val_loss: 0.1455 - val_accuracy: 0.9499\n",
      "\n",
      "Epoch 00037: val_loss did not improve from 0.13198\n",
      "Epoch 38/1000\n",
      "214/214 [==============================] - 307s 1s/step - loss: 0.1041 - accuracy: 0.9622 - val_loss: 0.1404 - val_accuracy: 0.9497\n",
      "\n",
      "Epoch 00038: val_loss did not improve from 0.13198\n",
      "Epoch 39/1000\n",
      "214/214 [==============================] - 306s 1s/step - loss: 0.1058 - accuracy: 0.9620 - val_loss: 0.1345 - val_accuracy: 0.9472\n",
      "\n",
      "Epoch 00039: val_loss did not improve from 0.13198\n",
      "Epoch 40/1000\n",
      "214/214 [==============================] - 307s 1s/step - loss: 0.1026 - accuracy: 0.9631 - val_loss: 0.1330 - val_accuracy: 0.9545\n",
      "\n",
      "Epoch 00040: val_loss did not improve from 0.13198\n",
      "Epoch 41/1000\n",
      "214/214 [==============================] - 324s 2s/step - loss: 0.0979 - accuracy: 0.9645 - val_loss: 0.1354 - val_accuracy: 0.9537\n",
      "\n",
      "Epoch 00041: val_loss did not improve from 0.13198\n",
      "Epoch 42/1000\n",
      "214/214 [==============================] - 342s 2s/step - loss: 0.0991 - accuracy: 0.9642 - val_loss: 0.1207 - val_accuracy: 0.9559\n",
      "\n",
      "Epoch 00042: val_loss improved from 0.13198 to 0.12072, saving model to saved_models\\least_val_loss_cnn_model.h5\n",
      "Epoch 43/1000\n",
      "214/214 [==============================] - 338s 2s/step - loss: 0.0994 - accuracy: 0.9637 - val_loss: 0.1200 - val_accuracy: 0.9553\n",
      "\n",
      "Epoch 00043: val_loss improved from 0.12072 to 0.11998, saving model to saved_models\\least_val_loss_cnn_model.h5\n",
      "Epoch 44/1000\n",
      "214/214 [==============================] - 345s 2s/step - loss: 0.0977 - accuracy: 0.9646 - val_loss: 0.1160 - val_accuracy: 0.9582\n",
      "\n",
      "Epoch 00044: val_loss improved from 0.11998 to 0.11601, saving model to saved_models\\least_val_loss_cnn_model.h5\n",
      "Epoch 45/1000\n",
      "214/214 [==============================] - 349s 2s/step - loss: 0.0975 - accuracy: 0.9651 - val_loss: 0.1573 - val_accuracy: 0.9372\n",
      "\n",
      "Epoch 00045: val_loss did not improve from 0.11601\n",
      "Epoch 46/1000\n",
      "214/214 [==============================] - 349s 2s/step - loss: 0.0972 - accuracy: 0.9652 - val_loss: 0.1237 - val_accuracy: 0.9566\n",
      "\n",
      "Epoch 00046: val_loss did not improve from 0.11601\n",
      "Epoch 47/1000\n",
      "214/214 [==============================] - 359s 2s/step - loss: 0.0950 - accuracy: 0.9656 - val_loss: 0.1187 - val_accuracy: 0.9571\n",
      "\n",
      "Epoch 00047: val_loss did not improve from 0.11601\n",
      "Epoch 48/1000\n",
      "214/214 [==============================] - 357s 2s/step - loss: 0.0953 - accuracy: 0.9655 - val_loss: 0.1197 - val_accuracy: 0.9563\n",
      "\n",
      "Epoch 00048: val_loss did not improve from 0.11601\n",
      "Epoch 49/1000\n",
      "214/214 [==============================] - 361s 2s/step - loss: 0.0922 - accuracy: 0.9669 - val_loss: 0.1217 - val_accuracy: 0.9583\n",
      "\n",
      "Epoch 00049: val_loss did not improve from 0.11601\n",
      "Epoch 50/1000\n",
      "214/214 [==============================] - 357s 2s/step - loss: 0.0895 - accuracy: 0.9681 - val_loss: 0.1240 - val_accuracy: 0.9537\n",
      "\n",
      "Epoch 00050: val_loss did not improve from 0.11601\n",
      "Epoch 51/1000\n",
      "214/214 [==============================] - 367s 2s/step - loss: 0.0878 - accuracy: 0.9684 - val_loss: 0.1155 - val_accuracy: 0.9590\n",
      "\n",
      "Epoch 00051: val_loss improved from 0.11601 to 0.11548, saving model to saved_models\\least_val_loss_cnn_model.h5\n",
      "Epoch 52/1000\n",
      "214/214 [==============================] - 342s 2s/step - loss: 0.0899 - accuracy: 0.9672 - val_loss: 0.1123 - val_accuracy: 0.9579\n",
      "\n",
      "Epoch 00052: val_loss improved from 0.11548 to 0.11227, saving model to saved_models\\least_val_loss_cnn_model.h5\n",
      "Epoch 53/1000\n",
      "214/214 [==============================] - 335s 2s/step - loss: 0.0884 - accuracy: 0.9677 - val_loss: 0.1161 - val_accuracy: 0.9592\n",
      "\n",
      "Epoch 00053: val_loss did not improve from 0.11227\n",
      "Epoch 54/1000\n",
      "214/214 [==============================] - 343s 2s/step - loss: 0.0864 - accuracy: 0.9696 - val_loss: 0.1271 - val_accuracy: 0.9498\n",
      "\n",
      "Epoch 00054: val_loss did not improve from 0.11227\n",
      "Epoch 55/1000\n",
      "214/214 [==============================] - 338s 2s/step - loss: 0.0859 - accuracy: 0.9694 - val_loss: 0.1160 - val_accuracy: 0.9593\n",
      "\n",
      "Epoch 00055: val_loss did not improve from 0.11227\n",
      "Epoch 56/1000\n",
      "214/214 [==============================] - 343s 2s/step - loss: 0.0849 - accuracy: 0.9688 - val_loss: 0.1091 - val_accuracy: 0.9612\n",
      "\n",
      "Epoch 00056: val_loss improved from 0.11227 to 0.10910, saving model to saved_models\\least_val_loss_cnn_model.h5\n",
      "Epoch 57/1000\n",
      "214/214 [==============================] - 346s 2s/step - loss: 0.0832 - accuracy: 0.9700 - val_loss: 0.1192 - val_accuracy: 0.9560\n",
      "\n",
      "Epoch 00057: val_loss did not improve from 0.10910\n",
      "Epoch 58/1000\n",
      "214/214 [==============================] - 366s 2s/step - loss: 0.0843 - accuracy: 0.9691 - val_loss: 0.1272 - val_accuracy: 0.9535\n",
      "\n",
      "Epoch 00058: val_loss did not improve from 0.10910\n",
      "Epoch 59/1000\n",
      "214/214 [==============================] - 330s 2s/step - loss: 0.0841 - accuracy: 0.9690 - val_loss: 0.1088 - val_accuracy: 0.9599\n",
      "\n",
      "Epoch 00059: val_loss improved from 0.10910 to 0.10877, saving model to saved_models\\least_val_loss_cnn_model.h5\n",
      "Epoch 60/1000\n",
      "214/214 [==============================] - 352s 2s/step - loss: 0.0790 - accuracy: 0.9710 - val_loss: 0.1078 - val_accuracy: 0.9594\n",
      "\n",
      "Epoch 00060: val_loss improved from 0.10877 to 0.10777, saving model to saved_models\\least_val_loss_cnn_model.h5\n",
      "Epoch 61/1000\n",
      "214/214 [==============================] - 332s 2s/step - loss: 0.0797 - accuracy: 0.9715 - val_loss: 0.1097 - val_accuracy: 0.9616\n",
      "\n",
      "Epoch 00061: val_loss did not improve from 0.10777\n",
      "Epoch 62/1000\n",
      "214/214 [==============================] - 337s 2s/step - loss: 0.0807 - accuracy: 0.9709 - val_loss: 0.1210 - val_accuracy: 0.9585\n",
      "\n",
      "Epoch 00062: val_loss did not improve from 0.10777\n",
      "Epoch 63/1000\n",
      "214/214 [==============================] - 337s 2s/step - loss: 0.0818 - accuracy: 0.9697 - val_loss: 0.1227 - val_accuracy: 0.9551\n",
      "\n",
      "Epoch 00063: val_loss did not improve from 0.10777\n",
      "Epoch 64/1000\n",
      "214/214 [==============================] - 327s 2s/step - loss: 0.0790 - accuracy: 0.9717 - val_loss: 0.1202 - val_accuracy: 0.9595\n",
      "\n",
      "Epoch 00064: val_loss did not improve from 0.10777\n",
      "Epoch 65/1000\n",
      "214/214 [==============================] - 328s 2s/step - loss: 0.0787 - accuracy: 0.9710 - val_loss: 0.1134 - val_accuracy: 0.9574\n",
      "\n",
      "Epoch 00065: val_loss did not improve from 0.10777\n",
      "Epoch 66/1000\n",
      "214/214 [==============================] - 329s 2s/step - loss: 0.0772 - accuracy: 0.9717 - val_loss: 0.1032 - val_accuracy: 0.9624\n",
      "\n",
      "Epoch 00066: val_loss improved from 0.10777 to 0.10315, saving model to saved_models\\least_val_loss_cnn_model.h5\n",
      "Epoch 67/1000\n",
      "214/214 [==============================] - 321s 2s/step - loss: 0.0770 - accuracy: 0.9722 - val_loss: 0.1072 - val_accuracy: 0.9624\n",
      "\n",
      "Epoch 00067: val_loss did not improve from 0.10315\n",
      "Epoch 68/1000\n",
      "214/214 [==============================] - 325s 2s/step - loss: 0.0791 - accuracy: 0.9703 - val_loss: 0.1075 - val_accuracy: 0.9608\n",
      "\n",
      "Epoch 00068: val_loss did not improve from 0.10315\n",
      "Epoch 69/1000\n",
      "214/214 [==============================] - 324s 2s/step - loss: 0.0751 - accuracy: 0.9725 - val_loss: 0.1010 - val_accuracy: 0.9607\n",
      "\n",
      "Epoch 00069: val_loss improved from 0.10315 to 0.10100, saving model to saved_models\\least_val_loss_cnn_model.h5\n",
      "Epoch 70/1000\n",
      "214/214 [==============================] - 339s 2s/step - loss: 0.0767 - accuracy: 0.9717 - val_loss: 0.1130 - val_accuracy: 0.9590\n",
      "\n",
      "Epoch 00070: val_loss did not improve from 0.10100\n",
      "Epoch 71/1000\n",
      "214/214 [==============================] - 328s 2s/step - loss: 0.0758 - accuracy: 0.9723 - val_loss: 0.1017 - val_accuracy: 0.9629\n",
      "\n",
      "Epoch 00071: val_loss did not improve from 0.10100\n",
      "Epoch 72/1000\n",
      "214/214 [==============================] - 324s 2s/step - loss: 0.0740 - accuracy: 0.9727 - val_loss: 0.0962 - val_accuracy: 0.9630\n",
      "\n",
      "Epoch 00072: val_loss improved from 0.10100 to 0.09624, saving model to saved_models\\least_val_loss_cnn_model.h5\n",
      "Epoch 73/1000\n",
      "214/214 [==============================] - 330s 2s/step - loss: 0.0708 - accuracy: 0.9737 - val_loss: 0.1092 - val_accuracy: 0.9621\n",
      "\n",
      "Epoch 00073: val_loss did not improve from 0.09624\n",
      "Epoch 74/1000\n"
     ]
    },
    {
     "name": "stdout",
     "output_type": "stream",
     "text": [
      "214/214 [==============================] - 331s 2s/step - loss: 0.0729 - accuracy: 0.9733 - val_loss: 0.1014 - val_accuracy: 0.9628\n",
      "\n",
      "Epoch 00074: val_loss did not improve from 0.09624\n",
      "Epoch 75/1000\n",
      "214/214 [==============================] - 332s 2s/step - loss: 0.0735 - accuracy: 0.9730 - val_loss: 0.1152 - val_accuracy: 0.9591\n",
      "\n",
      "Epoch 00075: val_loss did not improve from 0.09624\n",
      "Epoch 76/1000\n",
      "214/214 [==============================] - 348s 2s/step - loss: 0.0714 - accuracy: 0.9734 - val_loss: 0.1068 - val_accuracy: 0.9629\n",
      "\n",
      "Epoch 00076: val_loss did not improve from 0.09624\n",
      "Epoch 77/1000\n",
      "214/214 [==============================] - 337s 2s/step - loss: 0.0736 - accuracy: 0.9737 - val_loss: 0.1130 - val_accuracy: 0.9598\n",
      "\n",
      "Epoch 00077: val_loss did not improve from 0.09624\n",
      "Epoch 78/1000\n",
      "214/214 [==============================] - 335s 2s/step - loss: 0.0683 - accuracy: 0.9748 - val_loss: 0.0961 - val_accuracy: 0.9647\n",
      "\n",
      "Epoch 00078: val_loss improved from 0.09624 to 0.09613, saving model to saved_models\\least_val_loss_cnn_model.h5\n",
      "Epoch 79/1000\n",
      "214/214 [==============================] - 339s 2s/step - loss: 0.0672 - accuracy: 0.9748 - val_loss: 0.1067 - val_accuracy: 0.9610\n",
      "\n",
      "Epoch 00079: val_loss did not improve from 0.09613\n",
      "Epoch 80/1000\n",
      "214/214 [==============================] - 329s 2s/step - loss: 0.0711 - accuracy: 0.9744 - val_loss: 0.1082 - val_accuracy: 0.9599\n",
      "\n",
      "Epoch 00080: val_loss did not improve from 0.09613\n",
      "Epoch 81/1000\n",
      "214/214 [==============================] - 331s 2s/step - loss: 0.0695 - accuracy: 0.9745 - val_loss: 0.1079 - val_accuracy: 0.9633\n",
      "\n",
      "Epoch 00081: val_loss did not improve from 0.09613\n",
      "Epoch 82/1000\n",
      "214/214 [==============================] - 319s 1s/step - loss: 0.0682 - accuracy: 0.9747 - val_loss: 0.1097 - val_accuracy: 0.9602\n",
      "\n",
      "Epoch 00082: val_loss did not improve from 0.09613\n",
      "Epoch 83/1000\n",
      "214/214 [==============================] - 322s 2s/step - loss: 0.0679 - accuracy: 0.9751 - val_loss: 0.1176 - val_accuracy: 0.9567\n",
      "\n",
      "Epoch 00083: val_loss did not improve from 0.09613\n",
      "Epoch 84/1000\n",
      "214/214 [==============================] - 334s 2s/step - loss: 0.0670 - accuracy: 0.9756 - val_loss: 0.1048 - val_accuracy: 0.9620\n",
      "\n",
      "Epoch 00084: val_loss did not improve from 0.09613\n",
      "Epoch 85/1000\n",
      "214/214 [==============================] - 322s 2s/step - loss: 0.0676 - accuracy: 0.9749 - val_loss: 0.0991 - val_accuracy: 0.9646\n",
      "\n",
      "Epoch 00085: val_loss did not improve from 0.09613\n",
      "Epoch 86/1000\n",
      "214/214 [==============================] - 324s 2s/step - loss: 0.0665 - accuracy: 0.9754 - val_loss: 0.1085 - val_accuracy: 0.9611\n",
      "\n",
      "Epoch 00086: val_loss did not improve from 0.09613\n",
      "Epoch 87/1000\n",
      "214/214 [==============================] - 330s 2s/step - loss: 0.0668 - accuracy: 0.9756 - val_loss: 0.1216 - val_accuracy: 0.9589\n",
      "\n",
      "Epoch 00087: val_loss did not improve from 0.09613\n",
      "Epoch 88/1000\n",
      "214/214 [==============================] - 328s 2s/step - loss: 0.0666 - accuracy: 0.9755 - val_loss: 0.0919 - val_accuracy: 0.9673\n",
      "\n",
      "Epoch 00088: val_loss improved from 0.09613 to 0.09186, saving model to saved_models\\least_val_loss_cnn_model.h5\n",
      "Epoch 89/1000\n",
      "214/214 [==============================] - 329s 2s/step - loss: 0.0670 - accuracy: 0.9758 - val_loss: 0.0990 - val_accuracy: 0.9633\n",
      "\n",
      "Epoch 00089: val_loss did not improve from 0.09186\n",
      "Epoch 90/1000\n",
      "214/214 [==============================] - 314s 1s/step - loss: 0.0651 - accuracy: 0.9762 - val_loss: 0.1086 - val_accuracy: 0.9611\n",
      "\n",
      "Epoch 00090: val_loss did not improve from 0.09186\n",
      "Epoch 91/1000\n",
      "214/214 [==============================] - 321s 2s/step - loss: 0.0642 - accuracy: 0.9763 - val_loss: 0.1015 - val_accuracy: 0.9642\n",
      "\n",
      "Epoch 00091: val_loss did not improve from 0.09186\n",
      "Epoch 92/1000\n",
      "214/214 [==============================] - 322s 2s/step - loss: 0.0658 - accuracy: 0.9757 - val_loss: 0.0976 - val_accuracy: 0.9648\n",
      "\n",
      "Epoch 00092: val_loss did not improve from 0.09186\n",
      "Epoch 93/1000\n",
      "214/214 [==============================] - 310s 1s/step - loss: 0.0638 - accuracy: 0.9767 - val_loss: 0.0980 - val_accuracy: 0.9646\n",
      "\n",
      "Epoch 00093: val_loss did not improve from 0.09186\n",
      "Epoch 94/1000\n",
      "214/214 [==============================] - 305s 1s/step - loss: 0.0632 - accuracy: 0.9774 - val_loss: 0.0984 - val_accuracy: 0.9633\n",
      "\n",
      "Epoch 00094: val_loss did not improve from 0.09186\n",
      "Epoch 95/1000\n",
      "214/214 [==============================] - 306s 1s/step - loss: 0.0645 - accuracy: 0.9756 - val_loss: 0.1012 - val_accuracy: 0.9630\n",
      "\n",
      "Epoch 00095: val_loss did not improve from 0.09186\n",
      "Epoch 96/1000\n",
      "214/214 [==============================] - 302s 1s/step - loss: 0.0636 - accuracy: 0.9764 - val_loss: 0.1007 - val_accuracy: 0.9612\n",
      "\n",
      "Epoch 00096: val_loss did not improve from 0.09186\n",
      "Epoch 97/1000\n",
      "214/214 [==============================] - 313s 1s/step - loss: 0.0641 - accuracy: 0.9762 - val_loss: 0.1010 - val_accuracy: 0.9628\n",
      "\n",
      "Epoch 00097: val_loss did not improve from 0.09186\n",
      "Epoch 98/1000\n",
      "214/214 [==============================] - 302s 1s/step - loss: 0.0656 - accuracy: 0.9759 - val_loss: 0.1048 - val_accuracy: 0.9634\n",
      "\n",
      "Epoch 00098: val_loss did not improve from 0.09186\n",
      "Epoch 99/1000\n",
      "214/214 [==============================] - 300s 1s/step - loss: 0.0615 - accuracy: 0.9773 - val_loss: 0.1061 - val_accuracy: 0.9625\n",
      "\n",
      "Epoch 00099: val_loss did not improve from 0.09186\n",
      "Epoch 100/1000\n",
      "214/214 [==============================] - 300s 1s/step - loss: 0.0622 - accuracy: 0.9767 - val_loss: 0.1059 - val_accuracy: 0.9617\n",
      "\n",
      "Epoch 00100: val_loss did not improve from 0.09186\n",
      "Epoch 101/1000\n",
      "214/214 [==============================] - 299s 1s/step - loss: 0.0601 - accuracy: 0.9784 - val_loss: 0.0952 - val_accuracy: 0.9660\n",
      "\n",
      "Epoch 00101: val_loss did not improve from 0.09186\n",
      "Epoch 102/1000\n",
      "214/214 [==============================] - 299s 1s/step - loss: 0.0602 - accuracy: 0.9780 - val_loss: 0.1108 - val_accuracy: 0.9596\n",
      "\n",
      "Epoch 00102: val_loss did not improve from 0.09186\n",
      "Epoch 103/1000\n",
      "214/214 [==============================] - 300s 1s/step - loss: 0.0627 - accuracy: 0.9767 - val_loss: 0.0961 - val_accuracy: 0.9643\n",
      "\n",
      "Epoch 00103: val_loss did not improve from 0.09186\n",
      "Training completed in time:  9:16:55.883747\n"
     ]
    }
   ],
   "source": [
    "num_epochs = 1000\n",
    "num_batch_size = 256\n",
    "\n",
    "checkpointer = ModelCheckpoint(filepath='saved_models/least_val_loss_cnn_model.h5',\n",
    "                               monitor='val_loss', verbose=1, save_best_only=True)\n",
    "early_stopping_callback = EarlyStopping(monitor='val_loss', patience=15)\n",
    "\n",
    "start = datetime.now()\n",
    "\n",
    "history = model.fit(x_train, y_train,\n",
    "                    batch_size=num_batch_size, epochs=num_epochs,\n",
    "                    validation_data=(x_val, y_val),\n",
    "                    callbacks=[checkpointer, early_stopping_callback],\n",
    "                    verbose=1)\n",
    "\n",
    "duration = datetime.now() - start\n",
    "print(\"Training completed in time: \", duration)\n",
    "\n",
    "model.save('saved_models/last_cnn_model.h5')"
   ]
  },
  {
   "cell_type": "code",
   "execution_count": 16,
   "id": "9194aa4d",
   "metadata": {},
   "outputs": [
    {
     "data": {
      "image/png": "[encoded data removed]",
      "text/plain": [
       "<Figure size 2160x720 with 2 Axes>"
      ]
     },
     "metadata": {
      "needs_background": "light"
     },
     "output_type": "display_data"
    }
   ],
   "source": [
    "y_vloss = history.history['val_loss']\n",
    "y_loss = history.history['loss']\n",
    "y_vacc = history.history['val_accuracy']\n",
    "y_acc = history.history['accuracy']\n",
    "\n",
    "x_len = np.arange(len(y_loss))\n",
    "\n",
    "plt.rcParams[\"figure.figsize\"] = (30, 10)\n",
    "\n",
    "plt.subplot(1, 2, 1)\n",
    "plt.plot(x_len, y_vloss, marker='o', c='red', label='validationset_loss')\n",
    "plt.plot(x_len, y_loss, marker='o', c='blue', label='trainset_loss')\n",
    "plt.legend(loc='upper right', fontsize=20)\n",
    "plt.grid()\n",
    "plt.xlabel('epoch', fontsize=25)\n",
    "plt.ylabel('loss', fontsize=25)\n",
    "plt.xticks(fontsize=16)\n",
    "plt.yticks(fontsize=16)\n",
    "\n",
    "plt.subplot(1, 2, 2)\n",
    "plt.plot(x_len, y_vacc, marker='o', c='red', label='validationset_accuracy')\n",
    "plt.plot(x_len, y_acc, marker='o', c='blue', label='trainset_accuracy')\n",
    "plt.legend(loc='lower right', fontsize=20)\n",
    "plt.grid()\n",
    "plt.xlabel('epoch', fontsize=25)\n",
    "plt.ylabel('accuracy', fontsize=25)\n",
    "plt.xticks(fontsize=16)\n",
    "plt.yticks(fontsize=16)\n",
    "\n",
    "plt.show()"
   ]
  },
  {
   "cell_type": "markdown",
   "id": "32809740",
   "metadata": {},
   "source": [
    "# 저장된 모델 불러오기"
   ]
  },
  {
   "cell_type": "code",
   "execution_count": null,
   "id": "2cf28670",
   "metadata": {},
   "outputs": [],
   "source": [
    "# model = load_model('saved_models/least_val_loss_cnn_model.h5')\n",
    "model = load_model('saved_models/last_cnn_model.h5')"
   ]
  },
  {
   "cell_type": "markdown",
   "id": "f15d3a84",
   "metadata": {},
   "source": [
    "# 모델 성능 측정"
   ]
  },
  {
   "cell_type": "code",
   "execution_count": 17,
   "id": "0663648a",
   "metadata": {},
   "outputs": [
    {
     "name": "stdout",
     "output_type": "stream",
     "text": [
      "Training Accuracy:  0.983125627040863\n",
      "Validation Accuracy:  0.9643111824989319\n",
      "Testing Accuracy:  0.9646974802017212\n"
     ]
    }
   ],
   "source": [
    "# Evaluating the model on the training and testing set\n",
    "score = model.evaluate(x_train, y_train, verbose=0)\n",
    "print(\"Training Accuracy: \", score[1])\n",
    "\n",
    "score = model.evaluate(x_val, y_val, verbose=0)\n",
    "print(\"Validation Accuracy: \", score[1])\n",
    "\n",
    "score = model.evaluate(x_test, y_test, verbose=0)\n",
    "print(\"Testing Accuracy: \", score[1])"
   ]
  },
  {
   "cell_type": "code",
   "execution_count": 58,
   "id": "7f800f94",
   "metadata": {},
   "outputs": [],
   "source": [
    "def plotConfusionMat(true, pred, labelEncoder):\n",
    "    confusion_mat = confusion_matrix(true, pred)\n",
    "    confusion_mat_sum = confusion_mat.sum(axis=1)[:, np.newaxis]\n",
    "    confusion_mat_sum = np.where(confusion_mat_sum == 0, 1, confusion_mat_sum)\n",
    "    ratio_mat = confusion_mat.astype('float') / confusion_mat_sum\n",
    "    \n",
    "    plt.rcParams[\"figure.figsize\"] = (10, 10)\n",
    "    \n",
    "    plt.imshow(confusion_mat, interpolation='nearest', cmap=plt.cm.Blues)\n",
    "    plt.title('Confusion matrix', fontsize=30)\n",
    "    plt.xlabel('Predicted labels', fontsize=20)\n",
    "    plt.ylabel('True labels', fontsize=20)\n",
    "    \n",
    "    ticks = np.arange(len(labelEncoder.classes_))\n",
    "    plt.xticks(ticks, labelEncoder.classes_)\n",
    "    plt.yticks(ticks, labelEncoder.classes_)\n",
    "    plt.colorbar()\n",
    "    \n",
    "    thresh = confusion_mat.max() / 2\n",
    "    for i in range(len(labelEncoder.classes_)):\n",
    "        for j in range(len(labelEncoder.classes_)):\n",
    "            plt.text(j, i, \"{:0.4f}\\n({})\".format(ratio_mat[i, j], confusion_mat[i, j]),\n",
    "                     ha=\"center\", va=\"center\",\n",
    "                     color=\"white\" if confusion_mat[i, j] > thresh else \"black\",\n",
    "                     fontsize=18)\n",
    "    \n",
    "    plt.show()"
   ]
  },
  {
   "cell_type": "code",
   "execution_count": 19,
   "id": "b296f2fa",
   "metadata": {},
   "outputs": [
    {
     "name": "stdout",
     "output_type": "stream",
     "text": [
      "['General Sound' 'Illegal Voice' 'Legal Voice']\n"
     ]
    },
    {
     "data": {
      "image/png": "[encoded data removed]",
      "text/plain": [
       "<Figure size 720x720 with 2 Axes>"
      ]
     },
     "metadata": {
      "needs_background": "light"
     },
     "output_type": "display_data"
    },
    {
     "name": "stdout",
     "output_type": "stream",
     "text": [
      "               precision    recall  f1-score   support\n",
      "\n",
      "General Sound       0.97      0.97      0.97      8801\n",
      "Illegal Voice       0.96      0.95      0.96      1279\n",
      "  Legal Voice       0.96      0.96      0.96      8134\n",
      "\n",
      "     accuracy                           0.96     18214\n",
      "    macro avg       0.96      0.96      0.96     18214\n",
      " weighted avg       0.96      0.96      0.96     18214\n",
      "\n"
     ]
    }
   ],
   "source": [
    "# 테스트셋에 대한 혼동행렬\n",
    "\n",
    "print(le.classes_)\n",
    "\n",
    "y_true = np.argmax(y_test, axis=-1)\n",
    "y_pred = np.argmax(model.predict(x_test), axis=-1)\n",
    "plotConfusionMat(y_true, y_pred, le)\n",
    "\n",
    "print(classification_report(y_true, y_pred, target_names=le.classes_))"
   ]
  },
  {
   "cell_type": "markdown",
   "id": "099d15f7",
   "metadata": {},
   "source": [
    "# 한 파일에 대한 예측 보기"
   ]
  },
  {
   "cell_type": "code",
   "execution_count": null,
   "id": "644c0d5c",
   "metadata": {},
   "outputs": [],
   "source": [
    "def print_prediction(file_name):\n",
    "    prediction_feature = extract_features(file_name).reshape(1, num_rows, num_columns, num_channels)\n",
    "    predicted_proba_vector = model.predict(prediction_feature)\n",
    "    \n",
    "    predicted_class_vector = np.argmax(predicted_proba_vector, axis=-1)\n",
    "    predicted_class = le.inverse_transform(predicted_class_vector) \n",
    "    print(\"The predicted class is:\", predicted_class[0], '\\n') \n",
    "\n",
    "    predicted_proba = predicted_proba_vector[0]\n",
    "    for i in range(len(predicted_proba)): \n",
    "        print(le.classes_[i], \"\\t\\t : \", format(predicted_proba[i], '.32f') )"
   ]
  },
  {
   "cell_type": "code",
   "execution_count": null,
   "id": "e9fa28a3",
   "metadata": {},
   "outputs": [],
   "source": [
    "filename = '102105-3-0-0.wav'\n",
    "\n",
    "display(Audio(filename, autoplay=True))\n",
    "print_prediction(filename)"
   ]
  },
  {
   "cell_type": "markdown",
   "id": "08110492",
   "metadata": {},
   "source": [
    "# 전체 데이터셋에 대한 예측 상세히 보기"
   ]
  },
  {
   "cell_type": "code",
   "execution_count": null,
   "id": "a9da318c",
   "metadata": {},
   "outputs": [],
   "source": [
    "gsDf = pd.DataFrame(gs, columns=['feature','class_label'])\n",
    "lvDf = pd.DataFrame(lv, columns=['feature','class_label'])\n",
    "ivDf = pd.DataFrame(iv, columns=['feature','class_label'])\n",
    "# nsDf = pd.DataFrame(ns, columns=['feature','class_label'])\n",
    "\n",
    "gs_x = np.array(gsDf.feature.tolist())\n",
    "lv_x = np.array(lvDf.feature.tolist())\n",
    "iv_x = np.array(ivDf.feature.tolist())\n",
    "# ns_x = np.array(nsDf.feature.tolist())\n",
    "\n",
    "gs_x = gs_x.reshape(gs_x.shape[0], num_rows, num_columns, num_channels)\n",
    "lv_x = lv_x.reshape(lv_x.shape[0], num_rows, num_columns, num_channels)\n",
    "iv_x = iv_x.reshape(iv_x.shape[0], num_rows, num_columns, num_channels)\n",
    "# ns_x = ns_x.reshape(ns_x.shape[0], num_rows, num_columns, num_channels)"
   ]
  },
  {
   "cell_type": "code",
   "execution_count": null,
   "id": "58f9a1e8",
   "metadata": {},
   "outputs": [],
   "source": [
    "gs_predicted = np.argmax(model.predict(gs_x), axis=-1)\n",
    "lv_predicted = np.argmax(model.predict(lv_x), axis=-1)\n",
    "iv_predicted = np.argmax(model.predict(iv_x), axis=-1)\n",
    "# ns_predicted = np.argmax(model.predict(ns_x), axis=-1)"
   ]
  },
  {
   "cell_type": "code",
   "execution_count": null,
   "id": "c303cc78",
   "metadata": {},
   "outputs": [],
   "source": [
    "print('General Sound')\n",
    "for i, c in enumerate(gs_predicted):\n",
    "    if c != 0:\n",
    "        print(c, gs_name[i])\n",
    "        \n",
    "print('Legal Voice')\n",
    "for i, c in enumerate(lv_predicted):\n",
    "    if c != 2:\n",
    "        print(c, lv_name[i])\n",
    "        \n",
    "print('Illegal Voice')\n",
    "for i, c in enumerate(iv_predicted):\n",
    "    if c != 1:\n",
    "        print(c, iv_name[i])\n",
    "\n",
    "# print('No Sound')\n",
    "# for i, c in enumerate(ns_predicted):\n",
    "#     if c != 3:\n",
    "#         print(c, ns_name[i])"
   ]
  },
  {
   "cell_type": "code",
   "execution_count": null,
   "id": "9b2e5692",
   "metadata": {
    "scrolled": false
   },
   "outputs": [],
   "source": [
    "y_pred = np.argmax(model.predict(X), axis=-1)\n",
    "y_true = le.fit_transform(y)\n",
    "\n",
    "plotConfusionMat(y_true, y_pred, le)\n",
    "\n",
    "print(classification_report(y_true, y_pred, target_names=le.classes_))"
   ]
  },
  {
   "cell_type": "markdown",
   "id": "05707570",
   "metadata": {},
   "source": [
    "# 특징 시각화"
   ]
  },
  {
   "cell_type": "code",
   "execution_count": null,
   "id": "c819f09f",
   "metadata": {
    "scrolled": true
   },
   "outputs": [],
   "source": [
    "x_values = np.arange(60)\n",
    "\n",
    "plt.rcParams[\"figure.figsize\"] = (30, 10)\n",
    "\n",
    "plt.subplot(1, 3, 1)\n",
    "plt.title('General Sound', fontsize=30)\n",
    "plt.ylim([-100, 100])\n",
    "for x in gs:\n",
    "    plt.plot(x_values, x[0])\n",
    "    \n",
    "plt.subplot(1, 3, 2)\n",
    "plt.title('Illegal Voice', fontsize=30)\n",
    "plt.ylim([-100, 100])\n",
    "for x in iv:\n",
    "    plt.plot(x_values, x[0])\n",
    "    \n",
    "plt.subplot(1, 3, 3)\n",
    "plt.title('Legal Voice', fontsize=30)\n",
    "plt.ylim([-100, 100])\n",
    "for x in lv:\n",
    "    plt.plot(x_values, x[0])\n",
    "\n",
    "plt.show()"
   ]
  },
  {
   "cell_type": "markdown",
   "id": "71f21733",
   "metadata": {},
   "source": [
    "# 다른 데이터셋에 대해 예측"
   ]
  },
  {
   "cell_type": "code",
   "execution_count": 122,
   "id": "98a82e10",
   "metadata": {},
   "outputs": [],
   "source": [
    "def predict_files_in_directory(dir_paths):\n",
    "    y_pred = np.array([])\n",
    "    y_true = np.array([])\n",
    "    \n",
    "    for i, path in enumerate(dir_paths):\n",
    "        X, ignore = fetchDataset(path, '')\n",
    "        X = pd.DataFrame(X)[0].tolist()\n",
    "        X = np.array(X)\n",
    "        X = X.reshape(X.shape[0], num_rows, num_columns, num_channels)\n",
    "\n",
    "        y_pred = np.append(y_pred, np.argmax(model.predict(X), axis=-1), 0)\n",
    "        y_true = np.append(y_true, np.repeat(i, X.shape[0]), 0)\n",
    "    \n",
    "    plotConfusionMat(y_true, y_pred, le)\n",
    "    print(classification_report(y_true, y_pred, target_names=le.classes_))"
   ]
  },
  {
   "cell_type": "code",
   "execution_count": 123,
   "id": "fc6e127d",
   "metadata": {
    "scrolled": false
   },
   "outputs": [
    {
     "name": "stdout",
     "output_type": "stream",
     "text": [
      "E:/Audio-TestDataset/Test-Class3/General-Sounds\n",
      "E:/Audio-TestDataset/Test-Class3/ILLegal-Voices\n",
      "E:/Audio-TestDataset/Test-Class3/Legal-Voices\n"
     ]
    },
    {
     "data": {
      "image/png": "[encoded data removed]",
      "text/plain": [
       "<Figure size 720x720 with 2 Axes>"
      ]
     },
     "metadata": {
      "needs_background": "light"
     },
     "output_type": "display_data"
    },
    {
     "name": "stdout",
     "output_type": "stream",
     "text": [
      "               precision    recall  f1-score   support\n",
      "\n",
      "General Sound       0.90      0.82      0.86      2228\n",
      "Illegal Voice       0.97      0.72      0.83      1468\n",
      "  Legal Voice       0.62      0.96      0.75      1045\n",
      "\n",
      "     accuracy                           0.82      4741\n",
      "    macro avg       0.83      0.83      0.81      4741\n",
      " weighted avg       0.86      0.82      0.82      4741\n",
      "\n"
     ]
    }
   ],
   "source": [
    "gs_path = \"E:/Audio-TestDataset/Test-Class3/General-Sounds\"\n",
    "iv_path = \"E:/Audio-TestDataset/Test-Class3/ILLegal-Voices\"\n",
    "lv_path = \"E:/Audio-TestDataset/Test-Class3/Legal-Voices\"\n",
    "predict_files_in_directory((gs_path, iv_path, lv_path))"
   ]
  },
  {
   "cell_type": "code",
   "execution_count": null,
   "id": "eea1d31f",
   "metadata": {},
   "outputs": [],
   "source": []
  }
 ],
 "metadata": {
  "kernelspec": {
   "display_name": "Python 3",
   "language": "python",
   "name": "python3"
  },
  "language_info": {
   "codemirror_mode": {
    "name": "ipython",
    "version": 3
   },
   "file_extension": ".py",
   "mimetype": "text/x-python",
   "name": "python",
   "nbconvert_exporter": "python",
   "pygments_lexer": "ipython3",
   "version": "3.8.10"
  }
 },
 "nbformat": 4,
 "nbformat_minor": 5
}
